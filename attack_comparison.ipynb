{
 "cells": [
  {
   "cell_type": "code",
   "execution_count": 1,
   "metadata": {},
   "outputs": [],
   "source": [
    "import numpy as np\n",
    "import pandas as pd\n",
    "import json\n",
    "from typing import Tuple\n",
    "from PIL import Image\n",
    "from torchvision import transforms\n",
    "from utils import Normalize\n",
    "from torchvision.models import resnet50\n",
    "import torch\n",
    "import torch.nn as nn\n",
    "from target_model import TargetModel\n",
    "from classify_model import LeNet5\n",
    "import warnings\n",
    "from torchvision import datasets\n",
    "from torch.utils.data import DataLoader\n",
    "import matplotlib.pyplot as plt\n",
    "from magma import Magma\n",
    "from PGD_attack import PGD\n",
    "from art.attacks.evasion import SaliencyMapMethod\n",
    "from art.estimators.classification import PyTorchClassifier"
   ]
  },
  {
   "cell_type": "code",
   "execution_count": 2,
   "metadata": {},
   "outputs": [
    {
     "data": {
      "text/plain": [
       "LeNet5(\n",
       "  (conv1): Sequential(\n",
       "    (0): Conv2d(1, 6, kernel_size=(5, 5), stride=(1, 1))\n",
       "    (1): Tanh()\n",
       "    (2): AvgPool2d(kernel_size=2, stride=2, padding=0)\n",
       "  )\n",
       "  (conv2): Sequential(\n",
       "    (0): Conv2d(6, 16, kernel_size=(5, 5), stride=(1, 1))\n",
       "    (1): Tanh()\n",
       "    (2): AvgPool2d(kernel_size=2, stride=2, padding=0)\n",
       "  )\n",
       "  (conv3): Sequential(\n",
       "    (0): Conv2d(16, 120, kernel_size=(5, 5), stride=(1, 1))\n",
       "    (1): Tanh()\n",
       "  )\n",
       "  (fc1): Linear(in_features=120, out_features=84, bias=True)\n",
       "  (fc2): Linear(in_features=84, out_features=10, bias=True)\n",
       ")"
      ]
     },
     "execution_count": 2,
     "metadata": {},
     "output_type": "execute_result"
    }
   ],
   "source": [
    "model = LeNet5()\n",
    "model.load_state_dict(torch.load(\"model_1.pth\"))\n",
    "model.eval()"
   ]
  },
  {
   "cell_type": "code",
   "execution_count": 3,
   "metadata": {},
   "outputs": [],
   "source": [
    "train = datasets.MNIST(\n",
    "    root=\"dataset/\",\n",
    "    train=True,\n",
    "    download=True,\n",
    "    transform=transforms.Compose([transforms.Resize((32, 32)), transforms.ToTensor()]),\n",
    ")"
   ]
  },
  {
   "cell_type": "code",
   "execution_count": 4,
   "metadata": {},
   "outputs": [],
   "source": [
    "target_model = TargetModel(model)"
   ]
  },
  {
   "cell_type": "code",
   "execution_count": 5,
   "metadata": {},
   "outputs": [],
   "source": [
    "select_idx = 0"
   ]
  },
  {
   "cell_type": "code",
   "execution_count": 6,
   "metadata": {},
   "outputs": [
    {
     "name": "stdout",
     "output_type": "stream",
     "text": [
      "5000\n",
      "500\n",
      "torch.Size([1, 32, 32])\n",
      "Evolution:  100\n",
      "Evolution:  100 Fittest:  0.03562005236744881\n",
      "Evolution:  200\n",
      "Evolution:  200 Fittest:  0.04061829298734665\n",
      "Evolution:  300\n",
      "Evolution:  300 Fittest:  0.04061829298734665\n",
      "Evolution:  400\n",
      "Evolution:  400 Fittest:  0.042300271242856985\n",
      "Evolution:  500\n",
      "Evolution:  500 Fittest:  0.04929554015398026\n",
      "Evolution:  600\n",
      "Evolution:  600 Fittest:  0.04929554015398026\n",
      "Evolution:  700\n",
      "Evolution:  700 Fittest:  0.04929554015398026\n",
      "Evolution:  800\n",
      "Evolution:  800 Fittest:  0.04929554015398026\n",
      "Evolution:  900\n",
      "Evolution:  900 Fittest:  0.04929554015398026\n",
      "Evolution:  1000\n",
      "Evolution:  1000 Fittest:  0.04929554015398026\n",
      "Evolution:  1100\n",
      "Evolution:  1100 Fittest:  0.04929554015398026\n",
      "Evolution:  1200\n",
      "Evolution:  1200 Fittest:  0.04929554015398026\n",
      "Evolution:  1300\n",
      "Evolution:  1300 Fittest:  0.04929554015398026\n",
      "Evolution:  1400\n",
      "Evolution:  1400 Fittest:  0.04929554015398026\n",
      "Evolution:  1500\n",
      "Evolution:  1500 Fittest:  0.04929554015398026\n",
      "Evolution:  1600\n",
      "Evolution:  1600 Fittest:  0.04929554015398026\n",
      "Evolution:  1700\n",
      "Evolution:  1700 Fittest:  0.04929554015398026\n",
      "Evolution:  1800\n",
      "Evolution:  1800 Fittest:  0.04929554015398026\n",
      "Evolution:  1900\n",
      "Evolution:  1900 Fittest:  0.04929554015398026\n",
      "Evolution:  2000\n",
      "Evolution:  2000 Fittest:  0.04929554015398026\n",
      "Evolution:  2100\n",
      "Evolution:  2100 Fittest:  0.04929554015398026\n",
      "Evolution:  2200\n",
      "Evolution:  2200 Fittest:  0.04929554015398026\n",
      "Evolution:  2300\n",
      "Evolution:  2300 Fittest:  0.04929554015398026\n",
      "Evolution:  2400\n",
      "Evolution:  2400 Fittest:  0.04929554015398026\n",
      "Evolution:  2500\n",
      "Evolution:  2500 Fittest:  0.04929554015398026\n",
      "Evolution:  2600\n",
      "Evolution:  2600 Fittest:  0.04929554015398026\n",
      "Evolution:  2700\n",
      "Evolution:  2700 Fittest:  0.04929554015398026\n",
      "Evolution:  2800\n",
      "Evolution:  2800 Fittest:  0.04929554015398026\n",
      "Evolution:  2900\n",
      "Evolution:  2900 Fittest:  0.04929554015398026\n",
      "Evolution:  3000\n",
      "Evolution:  3000 Fittest:  0.04929554015398026\n",
      "Evolution:  3100\n",
      "Evolution:  3100 Fittest:  0.04929554015398026\n",
      "Evolution:  3200\n",
      "Evolution:  3200 Fittest:  0.04929554015398026\n",
      "Evolution:  3300\n",
      "Evolution:  3300 Fittest:  0.04929554015398026\n",
      "Evolution:  3400\n",
      "Evolution:  3400 Fittest:  0.04929554015398026\n",
      "Evolution:  3500\n",
      "Evolution:  3500 Fittest:  0.04929554015398026\n",
      "Evolution:  3600\n",
      "Evolution:  3600 Fittest:  0.04929554015398026\n",
      "Evolution:  3700\n",
      "Evolution:  3700 Fittest:  0.04929554015398026\n",
      "Evolution:  3800\n",
      "Evolution:  3800 Fittest:  0.04929554015398026\n",
      "Evolution:  3900\n",
      "Evolution:  3900 Fittest:  0.04929554015398026\n",
      "Evolution:  4000\n",
      "Evolution:  4000 Fittest:  0.04929554015398026\n",
      "Evolution:  4100\n",
      "Evolution:  4100 Fittest:  0.04929554015398026\n",
      "Evolution:  4200\n",
      "Evolution:  4200 Fittest:  0.04929554015398026\n",
      "Evolution:  4300\n",
      "Evolution:  4300 Fittest:  0.04929554015398026\n",
      "Evolution:  4400\n",
      "Evolution:  4400 Fittest:  0.04929554015398026\n",
      "Evolution:  4500\n",
      "Evolution:  4500 Fittest:  0.04929554015398026\n",
      "Evolution:  4600\n",
      "Evolution:  4600 Fittest:  0.04929554015398026\n",
      "Evolution:  4700\n",
      "Evolution:  4700 Fittest:  0.04929554015398026\n",
      "Evolution:  4800\n",
      "Evolution:  4800 Fittest:  0.04929554015398026\n",
      "Evolution:  4900\n",
      "Evolution:  4900 Fittest:  0.04929554015398026\n",
      "Evolution:  5000\n",
      "Evolution:  5000 Fittest:  0.04929554015398026\n"
     ]
    }
   ],
   "source": [
    "genetic_attack = Magma(500, train[select_idx][0].shape, 5000)\n",
    "genetic_attack_noise = genetic_attack.attack(train[select_idx][0], target_model)"
   ]
  },
  {
   "cell_type": "code",
   "execution_count": 8,
   "metadata": {},
   "outputs": [],
   "source": [
    "epsilon = 0.05\n",
    "iterations = 50\n",
    "alpha = 2./255"
   ]
  },
  {
   "cell_type": "code",
   "execution_count": 9,
   "metadata": {},
   "outputs": [
    {
     "name": "stdout",
     "output_type": "stream",
     "text": [
      "5\n"
     ]
    }
   ],
   "source": [
    "print(train[select_idx][1])"
   ]
  },
  {
   "cell_type": "code",
   "execution_count": 10,
   "metadata": {},
   "outputs": [],
   "source": [
    "pgd_attack = PGD(model, train[select_idx][0].unsqueeze(0), torch.tensor(train[select_idx][1]).unsqueeze(0), epsilon, iterations, alpha)"
   ]
  },
  {
   "cell_type": "code",
   "execution_count": 11,
   "metadata": {},
   "outputs": [],
   "source": [
    "classifier = PyTorchClassifier(\n",
    "    model=model,\n",
    "    loss=nn.CrossEntropyLoss(),\n",
    "    optimizer=torch.optim.Adam(model.parameters(), lr=0.001),\n",
    "    input_shape=(1, 32, 32),\n",
    "    nb_classes=10,\n",
    ")"
   ]
  },
  {
   "cell_type": "code",
   "execution_count": 51,
   "metadata": {},
   "outputs": [
    {
     "name": "stderr",
     "output_type": "stream",
     "text": [
      "JSMA: 100%|██████████| 1/1 [00:00<00:00,  1.97it/s]\n"
     ]
    }
   ],
   "source": [
    "saliency_attack = SaliencyMapMethod(classifier, theta=0.1, gamma=1.0, batch_size=1, verbose=True)\n",
    "saliency_attack_res = saliency_attack.generate(x=train[select_idx][0].unsqueeze(0).detach().numpy(), eps=epsilon)"
   ]
  },
  {
   "cell_type": "code",
   "execution_count": 59,
   "metadata": {},
   "outputs": [],
   "source": [
    "# print(saliency_attack_res.min())\n",
    "saliency_attack_res = np.clip(saliency_attack_res, 0, 1)"
   ]
  },
  {
   "cell_type": "code",
   "execution_count": 60,
   "metadata": {},
   "outputs": [
    {
     "data": {
      "image/png": "[encoded data removed]",
      "text/plain": [
       "<Figure size 640x480 with 4 Axes>"
      ]
     },
     "metadata": {},
     "output_type": "display_data"
    }
   ],
   "source": [
    "fig = plt.figure()\n",
    "ax = fig.add_subplot(2, 2, 1)\n",
    "ax.imshow(train[select_idx][0].squeeze(0), cmap=\"gray\")\n",
    "ax.set_title(\"Original: \" + str(target_model.predict(train[0][0])))\n",
    "ax = fig.add_subplot(2, 2, 2)\n",
    "ax.imshow((train[select_idx][0] + genetic_attack_noise).squeeze(0), cmap=\"gray\")\n",
    "ax.set_title(\n",
    "    \"Magma: \"\n",
    "    + str(target_model.predict(train[select_idx][0] + genetic_attack_noise))\n",
    ")\n",
    "ax = fig.add_subplot(2, 2, 3)\n",
    "ax.imshow(pgd_attack.detach().numpy()[0].squeeze(0), cmap=\"gray\")\n",
    "ax.set_title(\"PGD: \" + str(target_model.predict(pgd_attack[0])))\n",
    "ax = fig.add_subplot(2, 2, 4)\n",
    "ax.imshow(saliency_attack_res[0].squeeze(0), cmap=\"gray\")\n",
    "ax.set_title(\"JSMA: \" + str(target_model.predict(torch.tensor(saliency_attack_res[0]))))\n",
    "fig.tight_layout(pad=2.0)\n",
    "plt.show()"
   ]
  },
  {
   "cell_type": "code",
   "execution_count": 61,
   "metadata": {},
   "outputs": [
    {
     "name": "stdout",
     "output_type": "stream",
     "text": [
      "0\n",
      "75\n",
      "0\n",
      "25\n",
      "0\n",
      "255\n"
     ]
    }
   ],
   "source": [
    "magma_noise = (genetic_attack_noise.squeeze(0) * 255).detach().numpy()\n",
    "magma_noise = magma_noise + abs(magma_noise.min())\n",
    "magma_noise = magma_noise.astype(np.uint8)\n",
    "# magma_noise = np.clip(magma_noise, 0, 255)\n",
    "# magma_noise = np.clip(magma_noise, 0, 255).detach().numpy().astype(np.uint8)\n",
    "print(magma_noise.min())\n",
    "print(magma_noise.max())\n",
    "\n",
    "pgd_noise = (pgd_attack - train[select_idx][0]).detach().numpy()[0].squeeze(0) * 255\n",
    "pgd_noise = pgd_noise + abs(pgd_noise.min())\n",
    "pgd_noise = pgd_noise.astype(np.uint8)\n",
    "# pgd_noise = np.clip(pgd_noise, 0, 255)\n",
    "# pgd_noise = np.clip(pgd_noise, 0, 255).astype(np.uint8)\n",
    "print(pgd_noise.min())\n",
    "print(pgd_noise.max())\n",
    "\n",
    "\n",
    "saliency_noise = (saliency_attack_res[0] - (train[select_idx][0].detach().numpy())).squeeze(0) * 255\n",
    "saliency_noise = saliency_noise + abs(saliency_noise.min())\n",
    "saliency_noise = saliency_noise.astype(np.uint8)\n",
    "# saliency_noise = np.clip(saliency_noise, 0, 255)\n",
    "# saliency_noise = np.clip(saliency_noise, 0, 255).astype(np.uint8)\n",
    "print(saliency_noise.min())\n",
    "print(saliency_noise.max())"
   ]
  },
  {
   "cell_type": "code",
   "execution_count": 62,
   "metadata": {},
   "outputs": [
    {
     "data": {
      "image/png": "[encoded data removed]",
      "text/plain": [
       "<Figure size 640x480 with 4 Axes>"
      ]
     },
     "metadata": {},
     "output_type": "display_data"
    }
   ],
   "source": [
    "fig = plt.figure()\n",
    "ax = fig.add_subplot(1, 3, 1)\n",
    "im = ax.imshow(magma_noise, vmin=0, vmax=255)\n",
    "ax.set_title(\"Magma\")\n",
    "ax = fig.add_subplot(1, 3, 2)\n",
    "im = ax.imshow(pgd_noise, vmin=0, vmax=255)\n",
    "ax.set_title(\"PGD\")\n",
    "ax = fig.add_subplot(1, 3, 3)\n",
    "im = ax.imshow(saliency_noise, vmin=0, vmax=255)\n",
    "ax.set_title(\"JSMA\")\n",
    "# ax.imshow((train[select_idx][0] + genetic_attack_noise).squeeze(0), cmap=\"gray\")\n",
    "# ax.set_title(\n",
    "#     \"Magma: \"\n",
    "#     + str(target_model.predict(train[select_idx][0] + genetic_attack_noise))\n",
    "# )\n",
    "# ax = fig.add_subplot(2, 2, 3)\n",
    "# ax.imshow(pgd_attack.detach().numpy()[0].squeeze(0), cmap=\"gray\")\n",
    "# ax.set_title(\"PGD: \" + str(target_model.predict(pgd_attack[0])))\n",
    "# ax = fig.add_subplot(2, 2, 4)\n",
    "# ax.imshow(salency_attack_res[0].squeeze(0), cmap=\"gray\")\n",
    "# ax.set_title(\"PGD: \" + str(target_model.predict(torch.tensor(salency_attack_res[0]))))\n",
    "fig.subplots_adjust(right=0.6)\n",
    "cbar_ax = fig.add_axes([1.05, 0.15, 0.05, 0.7])\n",
    "fig.colorbar(im, cax=cbar_ax)\n",
    "fig.tight_layout(pad=1.0)\n",
    "plt.show()"
   ]
  },
  {
   "cell_type": "code",
   "execution_count": 64,
   "metadata": {},
   "outputs": [
    {
     "name": "stdout",
     "output_type": "stream",
     "text": [
      "Magma fitness: 0.04929554015398026\n",
      "PGD Fitness: 0.07421887293457985\n",
      "Saliency Fitness: 0.006005766987800601\n"
     ]
    }
   ],
   "source": [
    "pred_base_logits = target_model.predict_logits(train[select_idx][0])\n",
    "max_norm = np.linalg.norm(np.full(fill_value=1, shape=train[select_idx][0].shape))\n",
    "beta = 0.5\n",
    "\n",
    "print(\"Magma fitness: \" + str(genetic_attack.fitness_untargetted(genetic_attack_noise, train[select_idx][0], target_model)))\n",
    "\n",
    "pgd_logits = model(pgd_attack[0].unsqueeze(0))[0].detach().numpy()\n",
    "# print(pred_base_logits)\n",
    "# print(pgd_logits)\n",
    "pgd_abs_diff = np.abs(pgd_logits - pred_base_logits)\n",
    "pgd_missclassification_score = np.sum(pgd_abs_diff) / len(pgd_abs_diff)\n",
    "pgd_poison_magnitude = np.linalg.norm((pgd_attack[0].unsqueeze(0) - train[select_idx][0]).detach().numpy()) / max_norm\n",
    "pgd_fitness = (beta * pgd_missclassification_score) - (\n",
    "            (1 - beta) * pgd_poison_magnitude\n",
    "        )\n",
    "\n",
    "print(\"PGD Fitness: \" + str(pgd_fitness))\n",
    "\n",
    "saliency_logits = model(torch.tensor(saliency_attack_res[0]).unsqueeze(0))[0].detach().numpy()\n",
    "saliency_abs_diff = np.abs(saliency_logits - pred_base_logits)\n",
    "saliency_missclassification_score = np.sum(saliency_abs_diff) / len(pgd_abs_diff)\n",
    "saliency_poison_magnitude = np.linalg.norm((saliency_attack_res - train[select_idx][0].detach().numpy())) / max_norm\n",
    "saliency_fitness = (beta * saliency_missclassification_score) - (\n",
    "            (1 - beta) * saliency_poison_magnitude\n",
    "        )\n",
    "print(\"Saliency Fitness: \" + str(saliency_fitness))\n"
   ]
  },
  {
   "cell_type": "code",
   "execution_count": null,
   "metadata": {},
   "outputs": [],
   "source": []
  },
  {
   "cell_type": "code",
   "execution_count": null,
   "metadata": {},
   "outputs": [],
   "source": []
  },
  {
   "cell_type": "code",
   "execution_count": null,
   "metadata": {},
   "outputs": [],
   "source": []
  }
 ],
 "metadata": {
  "kernelspec": {
   "display_name": "ai",
   "language": "python",
   "name": "python3"
  },
  "language_info": {
   "codemirror_mode": {
    "name": "ipython",
    "version": 3
   },
   "file_extension": ".py",
   "mimetype": "text/x-python",
   "name": "python",
   "nbconvert_exporter": "python",
   "pygments_lexer": "ipython3",
   "version": "3.8.18"
  }
 },
 "nbformat": 4,
 "nbformat_minor": 2
}
